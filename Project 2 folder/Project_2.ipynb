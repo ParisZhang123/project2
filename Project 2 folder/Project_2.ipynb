{
 "cells": [
  {
   "cell_type": "code",
   "execution_count": 1,
   "id": "ad11b4b2-07e8-4b06-87fb-0c6ae8034d1e",
   "metadata": {
    "scrolled": true,
    "tags": []
   },
   "outputs": [],
   "source": [
    "import pandas as pd\n",
    "from path import Path\n",
    "from sklearn.ensemble import RandomForestClassifier\n",
    "from sklearn.preprocessing import StandardScaler\n",
    "from sklearn.model_selection import train_test_split\n",
    "from sklearn.metrics import confusion_matrix, accuracy_score, classification_report\n",
    "import json\n",
    "import requests\n",
    "import re,string,timeit\n",
    "import time\n",
    "import os\n",
    "from dotenv import load_dotenv\n",
    "import numpy as np"
   ]
  },
  {
   "cell_type": "code",
   "execution_count": 2,
   "id": "d256b481-fdc2-47ca-af90-d70ec63dce75",
   "metadata": {},
   "outputs": [
    {
     "name": "stdout",
     "output_type": "stream",
     "text": [
      "secret_d6bb4c7e7b1ffd35b93e894759a0eb1d\n"
     ]
    }
   ],
   "source": [
    "#Create API key\n",
    "load_dotenv()\n",
    "client_id =os.getenv(\"domain_client_id\")\n",
    "client_secret = os.getenv(\"domain_client_oauth_secrets\")\n",
    "print(client_secret)"
   ]
  },
  {
   "cell_type": "code",
   "execution_count": 5,
   "id": "43ea31e6-8f75-477a-a5f1-59af0a12df2c",
   "metadata": {},
   "outputs": [
    {
     "ename": "SyntaxError",
     "evalue": "invalid syntax (<ipython-input-5-dbf3f64a0ed6>, line 7)",
     "output_type": "error",
     "traceback": [
      "\u001b[1;36m  File \u001b[1;32m\"<ipython-input-5-dbf3f64a0ed6>\"\u001b[1;36m, line \u001b[1;32m7\u001b[0m\n\u001b[1;33m    file_path_two = Path(\"CPI_aus_10y.csv\")\u001b[0m\n\u001b[1;37m                ^\u001b[0m\n\u001b[1;31mSyntaxError\u001b[0m\u001b[1;31m:\u001b[0m invalid syntax\n"
     ]
    }
   ],
   "source": [
    "# read in necessary files\n",
    "\n",
    "file_path = Path(\"AUD_exchange_rate.csv\")\n",
    "df_exchange_rates = pd.read_csv(file_path)\n",
    "\n",
    "file_path_1 = Path(\"Cash_rate.csv\", \n",
    "df_cash_rate = pd.read_csv(file_path_1)\n",
    "\n",
    "file_path_2 = Path(\"CPI_aus_10y.csv\")\n",
    "df_CPI = pd.read_csv(file_path_two)\n",
    "\n",
    "file_path_3 = Path(\"historical_GDP_data.csv\")\n",
    "df_gdp = pd.read_csv(file_path_3)\n",
    "\n",
    "file_path_4 = Path(\"dpie_nsw_sydney_approvals_monthly.csv\")\n",
    "df_gdp = pd.read_csv(file_path_4)\n",
    "\n",
    "file_path_5 = Path(\"clean_suburbs_53.csv\")\n",
    "df_suberbs = pd.read_csv(file_path_5)\n",
    "\n",
    "df_suberbs.head()"
   ]
  },
  {
   "cell_type": "code",
   "execution_count": null,
   "id": "78e1d480-da68-459f-9ca2-435421dac07f",
   "metadata": {},
   "outputs": [],
   "source": [
    "# Need to clean the data, and concatinate the data frames. \n",
    "# From cash rate we need the second column. \n",
    "# DPIE we need the Grand Total. \n",
    "# AUD exhange rate will use USD which is the first column.\n",
    "# Will use the sydney CPI data from the CPI df, and its the first column of data (after the date)\n",
    "# Will use the percentage change in GDP, which is the third column in the dataframe\n"
   ]
  },
  {
   "cell_type": "code",
   "execution_count": null,
   "id": "645cdaf1-f573-4bf4-a376-44e40394819f",
   "metadata": {},
   "outputs": [],
   "source": [
    "#df_suberbs_clean = df_suberbs.drop_duplicates(subset=['year'])\n",
    "df_suberbs_clean = df_suberbs.drop_duplicates(subset=['suburb', 'year'])\n",
    "df_suberbs_clean= df_suberbs_clean.iloc[:, :4]\n",
    "\n",
    "df_suberbs_clean.head()\n"
   ]
  },
  {
   "cell_type": "code",
   "execution_count": null,
   "id": "6f83f0b1-049b-473a-8223-56dfc74127a0",
   "metadata": {},
   "outputs": [],
   "source": [
    "df_cash_rate.iloc[12:0, 0:1]"
   ]
  },
  {
   "cell_type": "code",
   "execution_count": null,
   "id": "3d8e405d-ea8c-46b7-b7dc-450fe42ae2bb",
   "metadata": {},
   "outputs": [],
   "source": []
  },
  {
   "cell_type": "code",
   "execution_count": null,
   "id": "8b2a7790-bb1e-4fd7-8e15-92c215272f9f",
   "metadata": {},
   "outputs": [],
   "source": [
    "df.head(10)\n",
    "suburb_dfs={}\n",
    "for sub in set(df['suburb']):\n",
    "    sub_df=df[df['suburb']==sub]\n",
    "    suburb_dfs[sub]=sub_df"
   ]
  },
  {
   "cell_type": "code",
   "execution_count": null,
   "id": "6439e280-c19b-4fc1-a4cf-e5a7acb416b0",
   "metadata": {},
   "outputs": [],
   "source": []
  },
  {
   "cell_type": "code",
   "execution_count": null,
   "id": "0323db7e-8cf5-43e8-9641-9a44f94b865c",
   "metadata": {},
   "outputs": [],
   "source": []
  },
  {
   "cell_type": "code",
   "execution_count": null,
   "id": "771e2a78-d3ab-400d-b290-f1d1e0eb14cd",
   "metadata": {},
   "outputs": [],
   "source": [
    "# Define features set\n",
    "X = cleaned_df.copy()\n",
    "X.drop(\"Default\", axis=1, inplace=True)\n",
    "X.head()"
   ]
  },
  {
   "cell_type": "code",
   "execution_count": null,
   "id": "24d2ae82-34a4-45d0-935b-6e60e0e22328",
   "metadata": {},
   "outputs": [],
   "source": [
    "# Define target vector\n",
    "y = cleaned_df[\"Default\"].values.reshape(-1, 1)\n",
    "y[:5]\n"
   ]
  },
  {
   "cell_type": "code",
   "execution_count": null,
   "id": "c8619363-d8c5-48f9-9036-4ac131286eaf",
   "metadata": {},
   "outputs": [],
   "source": [
    "# Splitting into Train and Test sets\n",
    "X_train, X_test, y_train, y_test = train_test_split(X, y, random_state=78)"
   ]
  },
  {
   "cell_type": "code",
   "execution_count": null,
   "id": "5a735c6e-e626-4d30-b5a3-eaa7be33049f",
   "metadata": {},
   "outputs": [],
   "source": [
    "# Create the StandardScaler instance\n",
    "scaler = StandardScaler()\n"
   ]
  },
  {
   "cell_type": "code",
   "execution_count": null,
   "id": "f59914d5-39c0-44fd-a7ad-a67dcdd82237",
   "metadata": {},
   "outputs": [],
   "source": [
    "# Fit the Standard Scaler with the training data\n",
    "X_scaler = scaler.fit(X_train)"
   ]
  },
  {
   "cell_type": "code",
   "execution_count": null,
   "id": "81084468-168a-4fcd-a6b5-6a5e67aef711",
   "metadata": {},
   "outputs": [],
   "source": [
    "# Scale the training data\n",
    "X_train_scaled = X_scaler.transform(X_train)\n",
    "X_test_scaled = X_scaler.transform(X_test)"
   ]
  },
  {
   "cell_type": "code",
   "execution_count": null,
   "id": "c7b4b5a4-ffcc-442f-8c25-cfe06976e4b7",
   "metadata": {},
   "outputs": [],
   "source": [
    "# Create the random forest classifier instance\n",
    "rf_model = RandomForestClassifier(n_estimators=500, random_state=78)"
   ]
  },
  {
   "cell_type": "code",
   "execution_count": null,
   "id": "5bcc3066-1007-48a8-87a9-d40b6bab2fcd",
   "metadata": {},
   "outputs": [],
   "source": [
    "# Fit the model\n",
    "rf_model = rf_model.fit(X_train_scaled, y_train)"
   ]
  },
  {
   "cell_type": "code",
   "execution_count": null,
   "id": "ea506107-3695-4d36-ad50-4d31fa083e29",
   "metadata": {},
   "outputs": [],
   "source": [
    "# Making predictions using the testing data\n",
    "predictions = rf_model.predict(X_test_scaled)"
   ]
  },
  {
   "cell_type": "code",
   "execution_count": null,
   "id": "9533762d-93d5-4195-8aeb-9018beaa5aa1",
   "metadata": {},
   "outputs": [],
   "source": [
    "# Calculating the confusion matrix\n",
    "cm = confusion_matrix(y_test, predictions)\n",
    "cm_df = pd.DataFrame(\n",
    "    cm, index=[\"Actual 0\", \"Actual 1\"], columns=[\"Predicted 0\", \"Predicted 1\"]\n",
    ")\n",
    "\n",
    "# Calculating the accuracy score\n",
    "acc_score = accuracy_score(y_test, predictions)"
   ]
  },
  {
   "cell_type": "code",
   "execution_count": null,
   "id": "b09aa8fc-90a9-4d07-be1d-dcd5f28931ed",
   "metadata": {},
   "outputs": [],
   "source": [
    "# Displaying results\n",
    "print(\"Confusion Matrix\")\n",
    "display(cm_df)\n",
    "print(f\"Accuracy Score : {acc_score}\")\n",
    "print(\"Classification Report\")\n",
    "print(classification_report(y_test, predictions))"
   ]
  },
  {
   "cell_type": "code",
   "execution_count": null,
   "id": "5100b6b0-2072-4d14-a951-965ce6a6150a",
   "metadata": {},
   "outputs": [],
   "source": [
    "# Get the feature importance array\n",
    "importances = rf_model.feature_importances_"
   ]
  },
  {
   "cell_type": "code",
   "execution_count": null,
   "id": "5f49b588-197a-4c9e-80cd-de45a62398ad",
   "metadata": {},
   "outputs": [],
   "source": [
    "# List the top 10 most important features\n",
    "importances_sorted = sorted(zip(rf_model.feature_importances_, X.columns), reverse=True)\n",
    "importances_sorted[:10]"
   ]
  }
 ],
 "metadata": {
  "kernelspec": {
   "display_name": "Python 3",
   "language": "python",
   "name": "python3"
  },
  "language_info": {
   "codemirror_mode": {
    "name": "ipython",
    "version": 3
   },
   "file_extension": ".py",
   "mimetype": "text/x-python",
   "name": "python",
   "nbconvert_exporter": "python",
   "pygments_lexer": "ipython3",
   "version": "3.7.10"
  }
 },
 "nbformat": 4,
 "nbformat_minor": 5
}
